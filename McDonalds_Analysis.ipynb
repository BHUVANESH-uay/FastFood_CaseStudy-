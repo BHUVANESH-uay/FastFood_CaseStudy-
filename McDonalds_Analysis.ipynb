{
 "cells": [
  {
   "cell_type": "markdown",
   "id": "1b98a73b",
   "metadata": {},
   "source": [
    "## Converted R Code to Python Code"
   ]
  },
  {
   "cell_type": "code",
   "execution_count": null,
   "id": "0872db05",
   "metadata": {},
   "outputs": [],
   "source": [
    "import pandas as pd\n",
    "import numpy as np\n",
    "from sklearn.decomposition import PCA\n",
    "from sklearn.preprocessing import StandardScaler\n",
    "from sklearn.cluster import KMeans\n",
    "from scipy.cluster.hierarchy import linkage, dendrogram\n",
    "import matplotlib.pyplot as plt\n",
    "import seaborn as sns\n",
    "\n",
    "# Assume mcdonalds_data.csv is the file containing the data.\n",
    "mcdonalds = pd.read_csv('mcdonalds_data.csv')\n",
    "\n",
    "# Display basic structure\n",
    "print(mcdonalds.head())\n",
    "print(mcdonalds.info())\n"
   ]
  },
  {
   "cell_type": "code",
   "execution_count": null,
   "id": "b02b7002",
   "metadata": {},
   "outputs": [],
   "source": [
    "# Convert categorical variables to binary (Yes -> 1, No -> 0)\n",
    "binary_columns = mcdonalds.columns[:11]\n",
    "for col in binary_columns:\n",
    "    mcdonalds[col] = (mcdonalds[col] == 'Yes').astype(int)\n",
    "\n",
    "# Compute column means\n",
    "col_means = mcdonalds[binary_columns].mean()\n",
    "print(col_means.round(2))\n"
   ]
  },
  {
   "cell_type": "code",
   "execution_count": null,
   "id": "9b7295c4",
   "metadata": {},
   "outputs": [],
   "source": [
    "# Perform PCA\n",
    "scaler = StandardScaler()\n",
    "scaled_data = scaler.fit_transform(mcdonalds[binary_columns])\n",
    "pca = PCA()\n",
    "pca.fit(scaled_data)\n",
    "\n",
    "# Summary of PCA\n",
    "print(f'Explained variance ratio: {pca.explained_variance_ratio_}')\n",
    "print(f'Cumulative explained variance: {np.cumsum(pca.explained_variance_ratio_)}')\n"
   ]
  },
  {
   "cell_type": "code",
   "execution_count": null,
   "id": "047fc840",
   "metadata": {},
   "outputs": [],
   "source": [
    "# Perform KMeans clustering\n",
    "kmeans = KMeans(n_clusters=4, random_state=1234)\n",
    "clusters = kmeans.fit_predict(scaled_data)\n",
    "mcdonalds['Cluster'] = clusters\n",
    "\n",
    "# Visualize clusters using the first two principal components\n",
    "pca_data = pca.transform(scaled_data)\n",
    "plt.scatter(pca_data[:, 0], pca_data[:, 1], c=clusters, cmap='viridis', alpha=0.5)\n",
    "plt.xlabel('PC1')\n",
    "plt.ylabel('PC2')\n",
    "plt.title('Clusters based on PCA')\n",
    "plt.show()\n"
   ]
  },
  {
   "cell_type": "code",
   "execution_count": null,
   "id": "af83f774",
   "metadata": {},
   "outputs": [],
   "source": [
    "# Perform Hierarchical Clustering\n",
    "linkage_matrix = linkage(scaled_data, method='ward')\n",
    "plt.figure(figsize=(10, 7))\n",
    "dendrogram(linkage_matrix, labels=clusters)\n",
    "plt.title('Hierarchical Clustering Dendrogram')\n",
    "plt.show()\n"
   ]
  }
 ],
 "metadata": {
  "language_info": {
   "name": "python"
  }
 },
 "nbformat": 4,
 "nbformat_minor": 5
}
